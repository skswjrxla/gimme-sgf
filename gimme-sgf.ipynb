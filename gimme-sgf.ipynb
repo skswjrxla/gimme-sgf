{
 "cells": [
  {
   "cell_type": "code",
   "execution_count": null,
   "id": "86b3b77f",
   "metadata": {},
   "outputs": [],
   "source": [
    "# source\n",
    "\n",
    "print(\"copy and paste the html line\")\n",
    "src = input()"
   ]
  },
  {
   "cell_type": "code",
   "execution_count": 291,
   "id": "6bf28bd3",
   "metadata": {},
   "outputs": [],
   "source": [
    "# range adj\n",
    "\n",
    "start = src.find('tbody')\n",
    "end = src[start+1:].find('tbody')\n",
    "usable = src[start:start+end]"
   ]
  },
  {
   "cell_type": "code",
   "execution_count": null,
   "id": "20b4cd74",
   "metadata": {},
   "outputs": [],
   "source": [
    "# finding points\n",
    "\n",
    "checklist = []\n",
    "count = 0\n",
    "\n",
    "while True :\n",
    "    count += 1\n",
    "    restart = usable[1:].find('\">')\n",
    "    usable = usable[restart+1:]\n",
    "    reend = usable[1:].find('</td>')\n",
    "    if restart == -1 :\n",
    "        break\n",
    "    if count == 1: \n",
    "        continue\n",
    "    insertion = usable[2:reend+1]\n",
    "    checklist.append(insertion)\n",
    "    "
   ]
  },
  {
   "cell_type": "code",
   "execution_count": 293,
   "id": "b0a73147",
   "metadata": {},
   "outputs": [],
   "source": [
    "# removing annotation\n",
    "\n",
    "for i in range(len(checklist)) :\n",
    "    if len(checklist[i]) > 4 :\n",
    "        checklist[i] = checklist[i][0:4]"
   ]
  },
  {
   "cell_type": "code",
   "execution_count": 294,
   "id": "2efc71fa",
   "metadata": {},
   "outputs": [],
   "source": [
    "# removing hyphen\n",
    "\n",
    "for i in range(len(checklist)) :\n",
    "    checklist[i] = checklist[i][0] + checklist[i][2:]"
   ]
  },
  {
   "cell_type": "code",
   "execution_count": 295,
   "id": "cc03c80d",
   "metadata": {},
   "outputs": [],
   "source": [
    "# removing gap\n",
    "\n",
    "for i in range(len(checklist)) :\n",
    "        checklist[i] = checklist[i].replace(\" \", \"\")"
   ]
  },
  {
   "cell_type": "code",
   "execution_count": 296,
   "id": "55ffab7c",
   "metadata": {},
   "outputs": [],
   "source": [
    "# changing None\n",
    "\n",
    "for i in range(len(checklist)) :\n",
    "        if checklist[i] == '-' :\n",
    "            checklist[i] = 'xx'"
   ]
  },
  {
   "cell_type": "code",
   "execution_count": 297,
   "id": "98f17b69",
   "metadata": {},
   "outputs": [],
   "source": [
    "# numbers and alphabets\n",
    "\n",
    "from string import ascii_lowercase\n",
    "numbers = []\n",
    "abc = list(ascii_lowercase)\n",
    "xabc = abc[0:20]\n",
    "abc = abc[0:19]\n",
    "for i in range (19) :\n",
    "    numbers.append(i+1)\n",
    "\n",
    "xabc.reverse()\n",
    "abc.reverse()"
   ]
  },
  {
   "cell_type": "code",
   "execution_count": 299,
   "id": "2d42f661",
   "metadata": {},
   "outputs": [],
   "source": [
    "# x-axis adj \n",
    "\n",
    "for i in range(len(checklist)) :\n",
    "    for k in range (11) :\n",
    "        if checklist[i][0] == xabc[k] :\n",
    "            checklist[i] = xabc[k+1] + checklist[i][1:] \n",
    "            break"
   ]
  },
  {
   "cell_type": "code",
   "execution_count": 301,
   "id": "c527ef57",
   "metadata": {},
   "outputs": [],
   "source": [
    "# y-axis adj\n",
    "\n",
    "for i in range(len(checklist)) :\n",
    "    if checklist[i] == 'xx' :\n",
    "        continue\n",
    "    for k in range (19) :\n",
    "        if int(checklist[i][1:]) == numbers[k] :  \n",
    "            checklist[i] = checklist[i][0] + abc[k]\n",
    "            break"
   ]
  },
  {
   "cell_type": "code",
   "execution_count": 302,
   "id": "acf836e2",
   "metadata": {},
   "outputs": [],
   "source": [
    "# sgf file generation \n",
    "\n",
    "sgf = open('gibo.txt', 'w')\n",
    "sgf.write('(\\n')\n",
    "sgf.write(';')\n",
    "for i in range (len(checklist)) :\n",
    "    if i % 2 == 0 :\n",
    "        text = 'B' + '[' + checklist[i] + ']' + ';'  \n",
    "    else :\n",
    "        text = 'W' + '[' + checklist[i] + ']' + ';'\n",
    "    sgf.write(text)\n",
    "sgf.write('\\n)')\n",
    "sgf.close()"
   ]
  },
  {
   "cell_type": "code",
   "execution_count": 303,
   "id": "af0cdfee",
   "metadata": {},
   "outputs": [],
   "source": [
    "# converting to sgf\n",
    "\n",
    "import os\n",
    "\n",
    "os.rename('gibo.txt', 'gibo.sgf')"
   ]
  }
 ],
 "metadata": {
  "kernelspec": {
   "display_name": "Python 3 (ipykernel)",
   "language": "python",
   "name": "python3"
  },
  "language_info": {
   "codemirror_mode": {
    "name": "ipython",
    "version": 3
   },
   "file_extension": ".py",
   "mimetype": "text/x-python",
   "name": "python",
   "nbconvert_exporter": "python",
   "pygments_lexer": "ipython3",
   "version": "3.9.12"
  }
 },
 "nbformat": 4,
 "nbformat_minor": 5
}
